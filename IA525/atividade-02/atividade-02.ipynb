{
 "cells": [
  {
   "cell_type": "markdown",
   "metadata": {},
   "source": [
    "$$\n",
    "\\begin{align*}\n",
    "& \\max_{x_i} & &  \\sum_{i \\in \\{1\\dots n\\}} x_i\\times l(i)  \\nonumber \\\\\n",
    "& \\textrm{s.t.} & & \\sum_{i \\in \\{1\\dots n\\}} i \\times x_{i} = n,\\\\\n",
    "& & &  x_{i} \\geq 0\\nonumber, \\\\\n",
    "& & &  x_{i} \\in \\mathbb{N} \\nonumber. \\\\\n",
    "\\end{align*} $$"
   ]
  },
  {
   "cell_type": "code",
   "execution_count": 10,
   "metadata": {},
   "outputs": [
    {
     "name": "stdout",
     "output_type": "stream",
     "text": [
      "Optimal x_i assignments:\n",
      "x_1 = 1\n",
      "x_2 = 0\n",
      "x_3 = 1\n",
      "x_4 = 0\n",
      "Maximum objective value: 17\n"
     ]
    }
   ],
   "source": [
    "def unbounded_knapsack_with_assignments(n, l_dict):\n",
    "    # DP table: dp[k] = (max_value, {x_i assignments})\n",
    "    dp = [(0, {}) for _ in range(n + 1)]\n",
    "    \n",
    "    for k in range(1, n + 1):\n",
    "        for i in l_dict:\n",
    "            if i <= k:\n",
    "                current_value = dp[k - i][0] + l_dict[i]\n",
    "                if current_value > dp[k][0]:\n",
    "                    new_assignments = dp[k - i][1].copy()\n",
    "                    new_assignments[i] = new_assignments.get(i, 0) + 1\n",
    "                    dp[k] = (current_value, new_assignments)\n",
    "    \n",
    "    max_value, x_assignments = dp[n]\n",
    "    \n",
    "    # Fill zeros for items not used\n",
    "    for i in l_dict:\n",
    "        if i not in x_assignments:\n",
    "            x_assignments[i] = 0\n",
    "    \n",
    "    return max_value, x_assignments\n",
    "\n",
    "# Exemplo de uso\n",
    "n = 4\n",
    "l_dict = {1: 4, 2: 8, 3: 13, 4: 15}\n",
    "\n",
    "max_value, x_opt = unbounded_knapsack_with_assignments(n, l_dict)\n",
    "\n",
    "print(\"Optimal x_i assignments:\")\n",
    "for i in sorted(x_opt.keys()):\n",
    "    print(f\"x_{i} = {x_opt[i]}\")\n",
    "print(f\"Maximum objective value: {max_value}\")"
   ]
  },
  {
   "cell_type": "code",
   "execution_count": null,
   "metadata": {},
   "outputs": [],
   "source": []
  }
 ],
 "metadata": {
  "kernelspec": {
   "display_name": "optmization",
   "language": "python",
   "name": "python3"
  },
  "language_info": {
   "codemirror_mode": {
    "name": "ipython",
    "version": 3
   },
   "file_extension": ".py",
   "mimetype": "text/x-python",
   "name": "python",
   "nbconvert_exporter": "python",
   "pygments_lexer": "ipython3",
   "version": "3.13.2"
  }
 },
 "nbformat": 4,
 "nbformat_minor": 2
}
