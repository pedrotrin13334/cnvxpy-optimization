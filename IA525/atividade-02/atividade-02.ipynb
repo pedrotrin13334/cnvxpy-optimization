{
 "cells": [
  {
   "cell_type": "markdown",
   "metadata": {},
   "source": [
    "**Questão 1:** Modele este problema como um problema de otimização, identificando:\n",
    "- as variáveis de decisão;\n",
    "- a função objetivo;\n",
    "- as restrições envolvidas, incluindo as de integralidade, se houver.\n",
    "\n",
    "**Resposta:** \n",
    "- **Variáveis de decisão:** $x_i$, que é o número de cortes de tamanho $i$. \n",
    "- **Função objetivo:** variaveis de decisão ponderando o lucro do corte. (maximizar lucro total)\n",
    "- **Restrições envolvidas:** Temos que garantir que as variáveis sejam inteiras, positivas e que o\n",
    "conjunto dos cortes seja factível (todos os cortes devem somar a ser o comprimento da barra)\n",
    "\n",
    "$$\n",
    "\\begin{align*}\n",
    "& \\max_{x_i} & &  \\sum_{i \\in \\{1\\dots n\\}} x_i\\times l(i)  \\nonumber \\\\\n",
    "& \\textrm{s.t.} & & \\sum_{i \\in \\{1\\dots n\\}} i \\times x_{i} = n,\\\\\n",
    "& & &  x_{i} \\geq 0\\nonumber, \\\\\n",
    "& & &  x_{i} \\in \\mathbb{N} \\nonumber. \\\\\n",
    "\\end{align*} $$"
   ]
  },
  {
   "cell_type": "markdown",
   "metadata": {},
   "source": [
    "**Questão 2:** Em uma estratégia de busca por soluções de forma enumerativa, podemos enumerar os padrões de corte e\n",
    "avaliar o seu lucro obtido. Pensando que uma barra de tamanho n pode (ou não) ser cortada em n − 1 posições\n",
    "distintas (cada uma espaçada de 1 unidade de medida), quantas soluções devem ser testadas (considere repetições)?\n",
    "\n",
    "**Resposta:** Sabendo que temos n-1 escolha binárias para a barra (cortar ou não cortar) o número de casos que precisamos testar é $2^{(n-1)}$ possíveis soluções (complexidade exponencial). "
   ]
  },
  {
   "cell_type": "markdown",
   "metadata": {},
   "source": [
    "**Questão 3:** Projete, por indução, um algoritmo recursivo que encontre a solução ótima para este problema. Para tanto,\n",
    "as seguintes perguntas devem ser respondidas pelo seu projeto:\n",
    "- Qual é o caso base para a recursão?\n",
    "- Como construir a solução ótima para a barra de tamanho k se conhecermos as soluções ótimas para as barras\n",
    "de tamanho 1, · · · , k − 1.\n",
    "- Ao final da execução, como reconstruir a solução ótima? Lembre de memorizar a melhor escolha a cada passo!\n",
    "\n",
    "**Resposta:** A ideia é a seguinte: Seja $T(k)$ a solução do nosso problema para a barra de tamanho k, no caso base em que temos uma barra de tamanho 1 sabemos que a resposta é um corte de tamanho 1, assim $T(1) = 1$. Se soubermos a solução para $\\{1, 2, 3 \\dots k-1\\}$, para achar a melhor solução $$T(k) = \\max_{i \\in \\{1, 2 \\dots k-1\\}} l(i) + T(k-i)$$"
   ]
  },
  {
   "cell_type": "code",
   "execution_count": 26,
   "metadata": {},
   "outputs": [
    {
     "name": "stdout",
     "output_type": "stream",
     "text": [
      "Atribuição ótima de Xi:\n",
      "x_1 = 1\n",
      "x_2 = 0\n",
      "x_3 = 1\n",
      "x_4 = 0\n",
      "Lucro Máximo: 17\n"
     ]
    }
   ],
   "source": [
    "def bar_cut_problem_recursive(n, l_dict):\n",
    "    max_value = 0 \n",
    "    solution_assignments = {i: 0 for i in range(1,n+1)}\n",
    "    chosen_assignments = {}\n",
    "    chosen_cut = 0\n",
    "\n",
    "    if n == 0: \n",
    "        return 0, {}\n",
    "    \n",
    "    for idx in range(1,n+1):\n",
    "        current_value, previous_assigments = bar_cut_problem_recursive(n-idx, l_dict)\n",
    "        current_value = current_value + l_dict[idx]\n",
    "\n",
    "        if current_value > max_value: \n",
    "            max_value = current_value\n",
    "            chosen_cut = idx\n",
    "            chosen_assignments = previous_assigments\n",
    "\n",
    "    for key in chosen_assignments.keys():\n",
    "        solution_assignments[key] = chosen_assignments[key]\n",
    "\n",
    "    solution_assignments[chosen_cut] = solution_assignments[chosen_cut] + 1\n",
    "\n",
    "    return max_value, solution_assignments\n",
    "\n",
    "# Exemplo de uso\n",
    "n = 4\n",
    "l_dict = {1: 4, 2: 8, 3: 13, 4: 15}\n",
    "\n",
    "max_value, x_opt = bar_cut_problem_recursive(n, l_dict)\n",
    "\n",
    "print(\"Atribuição ótima de Xi:\")\n",
    "for i in sorted(x_opt.keys()):\n",
    "    print(f\"x_{i} = {x_opt[i]}\")\n",
    "\n",
    "print(f\"Lucro Máximo: {max_value}\")"
   ]
  },
  {
   "cell_type": "markdown",
   "metadata": {},
   "source": [
    "**Questão 4:** Um problema que pode acontecer em algoritmos recursivos como o projetado acima é o re-cálculo de\n",
    "soluções de subproblemas durante as chamadas recursivas. Isto é, por exemplo, para resolver o problema com\n",
    "n = 4, o problema com n = 2 é resolvido em mais de uma chamada recursiva. Isso acontece com o seu algoritmo?\n",
    "Se isto acontece, o seu algoritmo pode facilmente se aproximar da simples enumeração e testagem de soluções.\n",
    "\n",
    "**Resposta:** Sim, isto acontece nesse algoritmo. "
   ]
  },
  {
   "cell_type": "markdown",
   "metadata": {},
   "source": [
    "**Questão 5:** Para evitar o recômputo de soluções já calculadas, proponha uma forma ordenada de resolver o problema,\n",
    "partindo de cortes menores e construindo a solução ótima para problemas maiores. Use esta forma de resolução\n",
    "para remover as chamadas recursivas, reescrevendo-o usando laços (loops). Quantas operações são necessárias, nesta\n",
    "versão, para resolver o problema?"
   ]
  },
  {
   "cell_type": "code",
   "execution_count": 27,
   "metadata": {},
   "outputs": [
    {
     "name": "stdout",
     "output_type": "stream",
     "text": [
      "Atribuição ótima de Xi:\n",
      "x_1 = 1\n",
      "x_2 = 0\n",
      "x_3 = 1\n",
      "x_4 = 0\n",
      "Lucro Máximo: 17\n"
     ]
    }
   ],
   "source": [
    "def unbounded_knapsack_with_assignments(n, l_dict):\n",
    "    # DP table: dp[k] = (max_value, {x_i assignments})\n",
    "    dp = [(0, {}) for _ in range(n + 1)]\n",
    "    \n",
    "    for k in range(1, n + 1):\n",
    "        for i in l_dict:\n",
    "            if i <= k:\n",
    "                current_value = dp[k - i][0] + l_dict[i]\n",
    "                if current_value > dp[k][0]:\n",
    "                    new_assignments = dp[k - i][1].copy()\n",
    "                    new_assignments[i] = new_assignments.get(i, 0) + 1\n",
    "                    dp[k] = (current_value, new_assignments)\n",
    "    \n",
    "    max_value, x_assignments = dp[n]\n",
    "    \n",
    "    # Fill zeros for items not used\n",
    "    for i in l_dict:\n",
    "        if i not in x_assignments:\n",
    "            x_assignments[i] = 0\n",
    "    \n",
    "    return max_value, x_assignments\n",
    "\n",
    "# Exemplo de uso\n",
    "n = 4\n",
    "l_dict = {1: 4, 2: 8, 3: 13, 4: 15}\n",
    "\n",
    "max_value, x_opt = unbounded_knapsack_with_assignments(n, l_dict)\n",
    "\n",
    "print(\"Atribuição ótima de Xi:\")\n",
    "for i in sorted(x_opt.keys()):\n",
    "    print(f\"x_{i} = {x_opt[i]}\")\n",
    "\n",
    "print(f\"Lucro Máximo: {max_value}\")"
   ]
  },
  {
   "cell_type": "markdown",
   "metadata": {},
   "source": [
    "**Questão 6:** Use o algoritmo projetado para resolver o caso de teste fornecido no moodle."
   ]
  },
  {
   "cell_type": "markdown",
   "metadata": {},
   "source": []
  }
 ],
 "metadata": {
  "kernelspec": {
   "display_name": "optmization",
   "language": "python",
   "name": "python3"
  },
  "language_info": {
   "codemirror_mode": {
    "name": "ipython",
    "version": 3
   },
   "file_extension": ".py",
   "mimetype": "text/x-python",
   "name": "python",
   "nbconvert_exporter": "python",
   "pygments_lexer": "ipython3",
   "version": "3.13.2"
  }
 },
 "nbformat": 4,
 "nbformat_minor": 2
}
