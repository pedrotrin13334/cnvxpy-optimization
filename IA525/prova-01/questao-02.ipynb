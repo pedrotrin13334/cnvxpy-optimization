{
 "cells": [
  {
   "cell_type": "markdown",
   "metadata": {},
   "source": [
    "## Questão 2: (Plantação de tomates!)"
   ]
  },
  {
   "cell_type": "markdown",
   "metadata": {},
   "source": [
    "### Item A\n",
    "\n",
    "**(a) Estratégia gulosa.** Considere a seguinte estratégia gulosa para resolver esse problema: “enquanto houver\n",
    "espaço disponı́vel para plantar um pé de tomate, plante naquele que oferece a maior deliciosidade”. Lembre-se de que\n",
    "um espaço só está disponı́vel para plantio se seus vizinhos imediatos não estiverem ocupados. Construa um\n",
    "exemplo em que essa estratégia é ótima e outro em que ela não produz a solução ótima.\n",
    "\n",
    "**Resposta:** \n",
    "\n",
    "Um exemplo de vetor T aonde esta estratégia descrita traz a solução ótima é o vetor \n",
    "$$T = [5, 1, 10, 1, 11]$$ \n",
    "Porque seguindo passo à passo, inicialmente encolhemos o valor 11 na última posição, então partimos para o 10 (como não há nenhum tomate adjacente, podemos plantar lá sem problemas) e depois para o 5 (que também está igualmente espaçado, portanto havendo a possibilidade de plantarmos um tomate na posição respectiva).  \n",
    "Neste processo a deliciosidade total seria D = 11 + 10 + 5 = 26.  Que é a deliciosidade máxima possível a ser alcançada (podemos checar por exaustão, neste pequeno exemplo).\n",
    "\n",
    "Um caso aonde esta estratégia não nos dá a solução ótima é quando temos, por exemplo, $$T = [6, 10, 8, 1].$$\n",
    "\n",
    "Neste caso, temos que escolhemos plantar na posição 10, então nossa única alternativa é plantar na posição de valor 1, assim temos a deliciosidade total como D = 10 + 1 = 11.  Enquanto pode-se notar que plantar primeiro na posição de valor 8, então plantar na primeira posição de valor 6, encontramos uma deliciosidade total de D = 8 + 6 = 14, maior que a solução gulosa. \n"
   ]
  },
  {
   "cell_type": "markdown",
   "metadata": {},
   "source": [
    "### Item B\n",
    "\n",
    "**(b) Programação dinâmica.** Construa um algoritmo recursivo que resolva esse problema, isto é, forneça a deliciosidade ótima total e o padrão ótimo de plantio para um dado vetor de deliciosidades T . Explique como\n",
    "a subestrutura ótima é explorada pelo seu algoritmo. A solução pode ser resolvida de forma iterativa e\n",
    "ordenada para melhorar a eficiência? Justifique.\n",
    "\n",
    "**Resposta:**\n",
    "\n",
    " O algoritmo planejado para resolver o problema explora a subestrutura ótima através de uma relação de recorrência que considera duas opções em cada posição $i$: plantar (adicionando $T_i$​ à solução ótima até $i−2$) ou não plantar (herdando a solução ótima até $i−1$), maximizando a deliciosidade total. \n",
    "\n",
    "\n",
    "$$\n",
    "\\text{s}[i] = \\begin{cases} \n",
    "T_0 & \\text{se } i = 0, \\\\\n",
    "\\max(T_0, T_1) & \\text{se } i = 1, \\\\\n",
    "\\max(T_i + \\text{s}[i-2], \\text{s}[i-1]) & \\text{se } i \\geq 2.\n",
    "\\end{cases}\n",
    "$$\n",
    "\n",
    "Existe a posibilidade de fazer uma versão iterativa desse algoritmo, mais eficiente, preenchendo uma tabela \"$s$\" de maneira *bottom-up*, garantindo complexidade $\\mathcal{O}(n)$ de tempo e espaço. Porém se utilizarmos memoização, as duas soluções, tanto a recursiva quanto a iterativa garantem a mesma complexidade em tempo e espaço.\n",
    "\n",
    "A reconstrução do padrão de plantio ótimo é feita percorrendo $s$ de trás para frente, identificando as posições onde $s[i]\\neq s[i−1]$ (indicando plantio em $i$) e pulando posições adjacentes.\n"
   ]
  },
  {
   "cell_type": "code",
   "execution_count": 5,
   "metadata": {},
   "outputs": [
    {
     "name": "stdout",
     "output_type": "stream",
     "text": [
      "Deliciosidade total: 51\n",
      "Indices do plantio : [0, 2, 4, 6, 9]\n",
      "Deliciosidades dos tomates plantados: [5, 10, 15, 11, 10]\n"
     ]
    }
   ],
   "source": [
    "def max_deliciosidade(T, i, memo):\n",
    "    # Caso base\n",
    "    if i < 0:\n",
    "        return 0\n",
    "    \n",
    "    # Verifica se já calculamos este subproblema\n",
    "    if memo[i] != -1:\n",
    "        return memo[i]\n",
    "    \n",
    "    # Opção 1: Não plantar na posição i\n",
    "    opcao_nao_plantar = max_deliciosidade(T, i-1, memo)\n",
    "    \n",
    "    # Opção 2: Plantar na posição i (só possível se i-1 não foi plantado)\n",
    "    opcao_plantar = T[i] + max_deliciosidade(T, i-2, memo)\n",
    "    \n",
    "    # Escolhe a melhor opção\n",
    "    memo[i] = max(opcao_nao_plantar, opcao_plantar)\n",
    "    return memo[i]\n",
    "\n",
    "def plantar_tomates_dp(T):\n",
    "    n = len(T)\n",
    "    memo = [-1] * n  # Tabela de memoização\n",
    "    deliciosidade_total = max_deliciosidade(T, n-1, memo)\n",
    "    \n",
    "    # Reconstruir a solução (padrão de plantio)\n",
    "    plantio = []\n",
    "    i = n - 1\n",
    "    while i >= 0:\n",
    "        if i == 0:\n",
    "            if memo[i] == T[i]:  # Se o valor veio de plantar aqui\n",
    "                plantio.append(i)\n",
    "            break\n",
    "        if memo[i] == memo[i-1]:  # Não plantou em i\n",
    "            i -= 1\n",
    "        else:  # Plantou em i\n",
    "            plantio.append(i)\n",
    "            i -= 2  # Pula o vizinho\n",
    "    \n",
    "    plantio.reverse()  # Para manter a ordem original\n",
    "    return deliciosidade_total, plantio\n",
    "\n",
    "\n",
    "T1 = [5, 12, 10, 7, 15, 10, 11, 5, 8, 10]\n",
    "T2 = [10, 12, 5, 12, 20, 18, 5, 3, 2, 8]\n",
    "T3 = [5, 10, 8, 1]\n",
    "\n",
    "deliciosidade_total, plantio = plantar_tomates_dp(T1)\n",
    "\n",
    "print(f\"Deliciosidade total: {deliciosidade_total}\")\n",
    "print(f\"Indices do plantio : {plantio}\")\n",
    "print(f\"Deliciosidades dos tomates plantados: {[T1[i] for i in plantio]}\")"
   ]
  },
  {
   "cell_type": "markdown",
   "metadata": {},
   "source": [
    "**(c) Programação linear inteira. Modele esse problema como um problema de otimização linear inteira (PLI).\n",
    "Detalhe a escolha das variáveis de decisão e das restrições.**\n",
    "\n",
    "**Resposta:** Nosso problema do plantio será resolvido utilizando a seguinte modelagem com PLI\n",
    "\\begin{align*}\n",
    "\\text{maximize} \\quad & \\sum_{i=1}^{n} T_i x_i \\\\\n",
    "\\text{sujeito a} \\quad & x_i + x_{i+1} \\leq 1, \\quad i = 1,\\ldots,n-1 \\\\\n",
    "& x_i \\in \\mathbb{B}, \\quad i = 1,\\ldots,n\n",
    "\\end{align*}\n",
    "\n",
    "Temos nesta formulação que as variáveis de decisão $x_i$ no problema de plantio são variáveis binárias que representam se um pé de tomate é plantado $(x_i=1)$ ou não $(x_i=0)$ na posição $i$. Já o vetor $Ti$, como descrito no enunciado, contém os valores de deliciosidade associados a cada posição possível de plantio. A função objetivo $\\sum_{i=1}^{n} T_i x_i$​ busca maximizar a deliciosidade total dos pés plantados, somando apenas as deliciosidades das posições onde efetivamente se planta.\n",
    "\n",
    "As restrições de vizinhança $x_i+x_{i+1}\\leq 1$ garantem que não haja plantio em posições adjacentes, se uma posição $i$ for escolhida, ou seja, $x_i=1$, a sua vizinha  é forçada a não ser escolhida por conta da desigualdade ser com variaveis binárias. Isso assegura que cada pé plantado tenha espaço livre ao redor. "
   ]
  },
  {
   "cell_type": "code",
   "execution_count": 4,
   "metadata": {},
   "outputs": [
    {
     "name": "stdout",
     "output_type": "stream",
     "text": [
      "Deliciosidade total máxima: 51.0\n",
      "Padrão de plantio ótimo: [1 0 1 0 1 0 1 0 0 1]\n"
     ]
    }
   ],
   "source": [
    "import cvxpy as cp\n",
    "import numpy as np\n",
    "\n",
    "def plantio_tomate_pli(deliciosidade):\n",
    "    n = len(deliciosidade)\n",
    "    \n",
    "    # Variável de decisão binária\n",
    "    x = cp.Variable(n, boolean=True)\n",
    "    \n",
    "    # Função objetivo - maximizar a deliciosidade total\n",
    "    objetivo = cp.Maximize(deliciosidade @ x)\n",
    "    \n",
    "    # Restrições - não pode plantar em posições adjacentes\n",
    "    restricoes = []\n",
    "    for i in range(n-1):\n",
    "        restricoes.append(x[i] + x[i+1] <= 1)\n",
    "    \n",
    "    # Formular e resolver o problema\n",
    "    prob = cp.Problem(objetivo, restricoes)\n",
    "    prob.solve()\n",
    "    \n",
    "    # Retornar a deliciosidade total e o padrão de plantio\n",
    "    deliciosidade_total = prob.value\n",
    "    padrao_plantio = np.round(x.value).astype(int)\n",
    "    \n",
    "    return deliciosidade_total, padrao_plantio\n",
    "\n",
    "# Exemplo de uso:\n",
    "T1 = np.array([5, 12, 10, 7, 15, 10, 11, 5, 8, 10])  # Vetor de deliciosidades\n",
    "total, padrao_plantio = plantio_tomate_pli(T1)\n",
    "\n",
    "print(f\"Deliciosidade total máxima: {total}\")\n",
    "print(f\"Padrão de plantio ótimo: {padrao_plantio}\")\n"
   ]
  },
  {
   "cell_type": "markdown",
   "metadata": {},
   "source": [
    "**(d) Valide as duas abordagens ótimas desenvolvidas para os vetores**\n",
    "\n",
    "$T1 = [5, 12, 10, 7, 15, 10, 11, 5, 8, 10]$ e $T2 = [10, 12, 5, 12, 20, 18, 5, 3, 2, 8]$."
   ]
  },
  {
   "cell_type": "code",
   "execution_count": 20,
   "metadata": {},
   "outputs": [
    {
     "name": "stdout",
     "output_type": "stream",
     "text": [
      "\n",
      "EXEMPLO T1!!!!!\n",
      "\n",
      " CASO COM PROGRAMACAO DINAMICA T1\n",
      "\tDeliciosidade total: 51\n",
      "\tIndices do plantio : [0, 2, 4, 6, 9]\n",
      "\tDeliciosidades dos tomates plantados: [5, 10, 15, 11, 10]\n",
      "\n",
      " CASO COM PLI T1\n",
      "\tDeliciosidade total máxima: 51.0\n",
      "\tPadrão de plantio ótimo: [1 0 1 0 1 0 1 0 0 1]\n",
      "\tDeliciosidades dos tomates plantados: [5, 10, 15, 11, 10]\n",
      "\n",
      "EXEMPLO T2!!!!!\n",
      "\n",
      " CASO COM PROGRAMACAO DINAMICA T2\n",
      "\tDeliciosidade total: 51\n",
      "\tIndices do plantio : [0, 2, 4, 6, 9]\n",
      "\tDeliciosidades dos tomates plantados: [10, 5, 20, 5, 8]\n",
      "\n",
      " CASO COM PLI T2\n",
      "\tDeliciosidade total máxima: 51.0\n",
      "\tPadrão de plantio ótimo: [1 0 1 0 1 0 1 0 0 1]\n",
      "\tDeliciosidades dos tomates plantados: [10, 5, 20, 5, 8]\n"
     ]
    }
   ],
   "source": [
    "T1 = np.array([5, 12, 10, 7, 15, 10, 11, 5, 8, 10])\n",
    "total_dp, plantio_dp = plantar_tomates_dp(T1)\n",
    "total_dp, plantio_pli = plantio_tomate_pli(T1)\n",
    "\n",
    "print(\"\\nEXEMPLO T1!!!!!\")\n",
    "\n",
    "print(\"\\n CASO COM PROGRAMACAO DINAMICA T1\")\n",
    "print(f\"\\tDeliciosidade total: {deliciosidade_total}\")\n",
    "print(f\"\\tIndices do plantio : {plantio}\")\n",
    "print(f\"\\tDeliciosidades dos tomates plantados: {[T1[i].item() for i in plantio]}\")\n",
    "\n",
    "print(\"\\n CASO COM PLI T1\")\n",
    "print(f\"\\tDeliciosidade total máxima: {total}\")\n",
    "print(f\"\\tPadrão de plantio ótimo: {padrao_plantio}\")\n",
    "print(f\"\\tDeliciosidades dos tomates plantados: {[T1[i].item() for i, result in enumerate(padrao_plantio) if result == 1]}\")\n",
    "\n",
    "T2 = np.array([10, 12, 5, 12, 20, 18, 5, 3, 2, 8])\n",
    "total_dp, plantio_dp = plantar_tomates_dp(T2)\n",
    "total_dp, plantio_pli = plantio_tomate_pli(T2)\n",
    "\n",
    "print(\"\\nEXEMPLO T2!!!!!\")\n",
    "print(\"\\n CASO COM PROGRAMACAO DINAMICA T2\")\n",
    "print(f\"\\tDeliciosidade total: {deliciosidade_total}\")\n",
    "print(f\"\\tIndices do plantio : {plantio}\")\n",
    "print(f\"\\tDeliciosidades dos tomates plantados: {[T2[i].item() for i in plantio]}\")\n",
    "\n",
    "print(\"\\n CASO COM PLI T2\")\n",
    "print(f\"\\tDeliciosidade total máxima: {total}\")\n",
    "print(f\"\\tPadrão de plantio ótimo: {padrao_plantio}\")\n",
    "print(f\"\\tDeliciosidades dos tomates plantados: {[T2[i].item() for i, result in enumerate(padrao_plantio) if result == 1]}\")\n"
   ]
  },
  {
   "cell_type": "code",
   "execution_count": null,
   "metadata": {},
   "outputs": [],
   "source": []
  }
 ],
 "metadata": {
  "kernelspec": {
   "display_name": "optmization",
   "language": "python",
   "name": "python3"
  },
  "language_info": {
   "codemirror_mode": {
    "name": "ipython",
    "version": 3
   },
   "file_extension": ".py",
   "mimetype": "text/x-python",
   "name": "python",
   "nbconvert_exporter": "python",
   "pygments_lexer": "ipython3",
   "version": "3.13.2"
  }
 },
 "nbformat": 4,
 "nbformat_minor": 2
}
