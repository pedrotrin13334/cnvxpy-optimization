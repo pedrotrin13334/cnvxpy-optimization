{
 "cells": [
  {
   "cell_type": "markdown",
   "metadata": {},
   "source": [
    "**(a) Estabeleça uma condição básica para que esse problema admita solução, considerando o vetor F e a distância máxima m que Pudim consegue caminhar sem se alimentar. Essa hipótese será assumida nos itens a seguir.**\n",
    "\n",
    "**resposta:** \n",
    "Para que o problema admita solução, a distância entre quaisquer dois buracos de pesca consecutivos no vetor $F$ não pode exceder $m$. Formalmente:\n",
    "$$\\forall i \\in \\{1, \\dots, n-1\\}, \\quad F[i+1] - F[i] \\leq m.$$\n",
    "\n",
    "Pois se existir um par de buracos consecutivos $(F[i],F[i+1])$ em que a distância $F[i+1] - F[i] > m$, Pudim não consegue ir de um ao outro sem passar fome, tornando o problema insolúvel. Esta condição garante que pelo menos uma solução exista, que é parar em todos os buracos."
   ]
  },
  {
   "cell_type": "markdown",
   "metadata": {},
   "source": [
    "**(b) Modele uma instância genérica desse problema como um problema de otimização linear inteira. Suponha\n",
    "que sejam dados o vetor F e a distância máxima entre paradas m. Descreva as variáveis de decisão e as\n",
    "restrições adotadas.**\n",
    "\n",
    "**Resposta:**\n",
    "As variáveis de decisão para este problema serão definidas de forma que para cada buraco de pesca $i\\in\\{1,\\dots,n\\}$, teremos $x_i \\in \\mathbb{B}$, onde:\n",
    "\n",
    "$$\n",
    "x_i = \\begin{cases} \n",
    "1, & \\text{se Pudim para no buraco } i, \\\\\n",
    "0, & \\text{caso contrário (c.c.)}\n",
    "\\end{cases}\n",
    "$$\n",
    "\n",
    "Nossa função objetivo será definida de maneira a minimar o número total de paradas,\n",
    "não contabilizando a primeira e a última parada, já que sao fixas. Isto é:\n",
    "$$\\text{minimize } \\sum_{i=2}^{n-1}x_{i}.$$\n",
    "\n",
    "Para as restrições forçaremos por definição que Pudim pare no começo e no final, isto é, $x_1=1$ e $x_n=1$, assim como faremos que a distância máxima entre paradas consecutivas sejam limitadas a $m$, para garantir que pudim não morra de fome. \n",
    "Esta segunda restrição é um pouco menos trivial, mas conseguimos descrevê-la de maneira linear, para isto seja $B_{>i}(m) = \\{k, \\text{ tal que } F[k] - F[i] \\leq m, \\ \\forall k > i\\}$, isto é, o conjunto de todos os pontos que estão a uma distância menor ou igual a $m$ do ponto $i$ e que estão a frente de $i$. seja $K_i = \\max\\{B_{>i}(m)\\}$. Podemos então definir as restrição lineares como:\n",
    "$$\\sum_{k=i+1}^{K_i} x_k \\geq x_i, \\quad \\forall i \\in \\{1, 2, \\dots, n-1\\}$$\n",
    "Isto se traduz em português para: se $x_i$ for 1 (fizemos uma parada) então deve haver pelo menos algum $x_k$ maior que 1 (significando outra parada) a uma distância menor que $m$, se $x_i=0$ note que essa inequação é satisfeita trivialmente. \n",
    "\n",
    "**Formulação Completa:**\n",
    "\\begin{align*}\n",
    "\\text{minimize} \\quad & \\sum_{i=2}^{n-2} x_i \\\\\n",
    "\\text{sujeito a} \\quad & \\sum_{k=i+1}^{K_i} x_k \\geq x_i, \\quad \\forall i \\in \\{1, 2, \\dots, n-1\\}\\\\\n",
    "& x_1=1, \\\\\n",
    "& x_n=1, \\\\\n",
    "& x_i \\in \\mathbb{B}, \\quad i \\in \\{1,\\ldots,n\\}\n",
    "\\end{align*}"
   ]
  },
  {
   "cell_type": "code",
   "execution_count": 15,
   "metadata": {},
   "outputs": [
    {
     "name": "stdout",
     "output_type": "stream",
     "text": [
      "[0, 4, 8, 12]\n"
     ]
    }
   ],
   "source": [
    "import cvxpy as cp\n",
    "import numpy as np\n",
    "\n",
    "def paradas_pudim_pli(F, m):\n",
    "    n = len(F)\n",
    "    x = cp.Variable(n, boolean=True)  # Variáveis binárias (1 = parada, 0 = não parada)\n",
    "    \n",
    "    # Função objetivo: minimizar o número total de paradas (exceto início e fim)\n",
    "    objective = cp.Minimize(cp.sum(x))  # Subtrai 2 porque início e fim são fixos\n",
    "    \n",
    "    # Restrições\n",
    "    constraints = [\n",
    "        x[0] == 1,   # Obrigatório parar no início\n",
    "        x[-1] == 1,   # Obrigatório parar no fim\n",
    "    ]\n",
    "    \n",
    "    # Restrição de distância máxima entre paradas consecutivas\n",
    "    for i in range(n):\n",
    "        ball_m = []\n",
    "        for j in range(i + 1, n):\n",
    "            if F[j] - F[i] <= m:\n",
    "                ball_m.append(j)\n",
    "        if not(ball_m == []):\n",
    "            constraints.append(cp.sum(x[i+1:np.max(ball_m)+1]) >= x[i])\n",
    "\n",
    "    # Resolver o problema\n",
    "    prob = cp.Problem(objective, constraints)\n",
    "    prob.solve(solver=cp.SCIP)  # Solver para problemas inteiros\n",
    "    \n",
    "    if prob.status != cp.OPTIMAL:\n",
    "        return \"Não há solução válida\"\n",
    "    \n",
    "    # Extrair as paradas selecionadas\n",
    "    paradas = [F[i] for i in range(n) if np.isclose(x[i].value, 1.0)]\n",
    "    return paradas\n",
    "\n",
    "# Exemplo do enunciado\n",
    "F = [0, 3, 4, 6, 7, 8, 10, 12]\n",
    "m = 4\n",
    "print(paradas_pudim_pli(F, m))  # Saída: [0, 4, 6, 10, 12]"
   ]
  },
  {
   "cell_type": "markdown",
   "metadata": {},
   "source": [
    "**(c) Pudim, além de comilão, é especialista em algoritmos gulosos. A estratégia adotada por Pudim é a seguinte:\n",
    "Pudim irá aguentar o máximo que puder, e só vai parar para pescar se perceber que não conseguirá chegar até o próximo\n",
    "buraco de pesca. Mostre que essa escolha é ótima. Dica: prove por indução.**\n",
    "\n",
    "**Resposta:** Vamos utilizar a estratégia gulosa definida em que o Pudim para no buraco mais distante possível dentro do limite $m$, ou seja, a cada parada $i$, escolhemos o maior $j>i$ tal que $F[j]−F[i] <= m$.\n",
    "\n",
    "Vamos provar que qualquer escolha inicial diferente da gulosa é sub-ótima ou equiparavel a estratégia gulosa. Sejam $g_1, g_2, \\dots, g_n$ as distância dos buracos em que o algoritmo guloso faz parada e $p_1, p_2, \\dots$ para os buracos em que um algoritmo ótimo faça paradas.\n",
    "\n",
    "Primeiro, escolheremos a base da indução, isso seria tomar $n=2$, nesse caso o algoritmo guloso é trivialmente ótimo, pois só é possível fazer uma parada, assim como isso é verdade no menor caso em que pode-se haver pelo menos uma parada $n=3$. (eu fiquei em dúvida se nesse caso eu usava a base ignorando as bordas ou não, por isso coloquei esse segundo pra garantir).\n",
    "\n",
    "Agora, para o passo indutivo, fazemos o seguinte, suponha que para um problema dado o algoritmo guloso pare em $k$ buracos (não contando o primeiro e o último) e que seja a estratégia ótima, queremos provar que qualquer outra estratégia ótima se equipara para o caso em que o algoritmo guloso faça $k+1$ paradas. \n",
    "\n",
    "Note que, pela natureza do problema, temos que $p_i$ tem que estar mais distante do buraco final do que $g_i$, para qualquer $i \\leq k$, em especial vale para $p_k$ e $g_k$, o que significa que $p_{k+1}$ atingiria no máximo $g_{k+1}$ começando de $p_{k}$, então temos que $p_{k+1} \\leq g_{k+1}$, portanto $g_{k+1}$ está mais perto do final, a partir de $p_{k+1}$ teremos que fazer ou mais paradas ou mesmo tanto de paradas do que partindo de $g_{k+1}$, que chega ao final na próxima iteração.\n",
    "\n",
    " Sendo assim, provamos o resultado esperado.\n",
    "\n"
   ]
  },
  {
   "cell_type": "code",
   "execution_count": 4,
   "metadata": {},
   "outputs": [
    {
     "name": "stdout",
     "output_type": "stream",
     "text": [
      "[0, 4, 6, 10, 12]\n"
     ]
    }
   ],
   "source": [
    "def paradas_pudim(F, m):\n",
    "    paradas = [F[0]]  # Sempre começa no primeiro ponto\n",
    "    ultima_parada = 0  # Índice da última parada\n",
    "    \n",
    "    # Enquanto não chegarmos ao final\n",
    "    while ultima_parada < len(F) - 1:\n",
    "        # Encontra o buraco mais distante possível dentro do limite m\n",
    "        prox_parada = ultima_parada\n",
    "        while (prox_parada + 1 < len(F) and \n",
    "               F[prox_parada + 1] - F[ultima_parada] <= m):\n",
    "            prox_parada += 1\n",
    "        \n",
    "        # Se não avançamos, não há solução válida\n",
    "        if prox_parada == ultima_parada:\n",
    "            return \"Não há solução válida - distância entre buracos muito grande\"\n",
    "        \n",
    "        # Adiciona a parada encontrada\n",
    "        paradas.append(F[prox_parada])\n",
    "        ultima_parada = prox_parada\n",
    "    \n",
    "    return paradas\n",
    "\n",
    "# Exemplo do enunciado\n",
    "F = [0, 3, 4, 6, 9, 10, 12]\n",
    "m = 4\n",
    "print(paradas_pudim(F, m))  # Saída: [0, 4, 6, 10, 12]"
   ]
  }
 ],
 "metadata": {
  "kernelspec": {
   "display_name": "optmization",
   "language": "python",
   "name": "python3"
  },
  "language_info": {
   "codemirror_mode": {
    "name": "ipython",
    "version": 3
   },
   "file_extension": ".py",
   "mimetype": "text/x-python",
   "name": "python",
   "nbconvert_exporter": "python",
   "pygments_lexer": "ipython3",
   "version": "3.13.2"
  }
 },
 "nbformat": 4,
 "nbformat_minor": 2
}
