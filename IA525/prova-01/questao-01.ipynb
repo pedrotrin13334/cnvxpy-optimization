{
 "cells": [
  {
   "cell_type": "code",
   "execution_count": 113,
   "metadata": {},
   "outputs": [
    {
     "name": "stdout",
     "output_type": "stream",
     "text": [
      "[array([10]), array([10, 15]), array([10, 15, 12]), array([10, 15, 12, 20]), array([10, 15, 12, 20, 10]), array([10, 15, 12, 20, 10, 40]), array([10, 15, 12, 20, 10, 40, 41]), array([10, 15, 12, 20, 10, 40, 41, 52]), array([10, 15, 12, 20, 10, 40, 41, 52, 53]), array([10, 15, 12, 20, 10, 40, 41, 52, 53, 23]), array([10, 15, 12, 20, 10, 40, 41, 52, 53, 23, 22]), array([10, 15, 12, 20, 10, 40, 41, 52, 53, 23, 22, 22])]\n",
      "optimal\n",
      "Number of towers to see: 7.0\n"
     ]
    }
   ],
   "source": [
    "import cvxpy as cp\n",
    "import numpy as np\n",
    "from numpy.typing import NDArray\n",
    "\n",
    "def get_ordered_comparison_model(line_array : NDArray, epsilon=1e-5, M = 1e5):\n",
    "    ordered_list = get_list_of_arrays_less_than_k(line_array)\n",
    "    Cis = cp.Variable(line_array.shape[0], boolean=True)\n",
    "    constraints_hi = []\n",
    "    for idx in range(len(ordered_list)):\n",
    "        constraints_hi += [ordered_list[idx][idx] >= ordered_list[k] + epsilon - M*(1-Cis[idx])\n",
    "                          for k in range(ordered_list[idx].shape[0]-1)]\n",
    "    return Cis, constraints_hi\n",
    "\n",
    "def get_list_of_arrays_less_than_k(line_array : NDArray):\n",
    "    return [line_array[:k+1] for k in range(line_array.shape[0])]\n",
    "\n",
    "# Example data\n",
    "A = np.array([10, 15, 12, 20,10, 40,41, 52, 53, 23, 22, 22]) \n",
    "print(get_list_of_arrays_less_than_k(A))\n",
    "epsilon = 1e-5  # Tolerance for strict inequality\n",
    "M = 1e5  # Big-M value\n",
    "\n",
    "Cis, constraints = get_ordered_comparison_model(A, epsilon, M)\n",
    "objective = cp.Maximize(cp.sum(Cis))\n",
    "problem = cp.Problem(objective, constraints)\n",
    "problem.solve(solver=cp.SCIP)\n",
    "\n",
    "print(problem.status)\n",
    "\n",
    "# Results\n",
    "print(f\"Number of towers to see: {problem.value}\")"
   ]
  },
  {
   "cell_type": "code",
   "execution_count": 114,
   "metadata": {},
   "outputs": [
    {
     "name": "stdout",
     "output_type": "stream",
     "text": [
      "optimal\n",
      "[[1. 4. 2. 3.]\n",
      " [3. 1. 4. 2.]\n",
      " [4. 2. 3. 1.]\n",
      " [2. 3. 1. 4.]]\n"
     ]
    }
   ],
   "source": [
    "import cvxpy as cp\n",
    "\n",
    "def make_discrete_decision_variables(array_shape, allowed_values):\n",
    "    # Binary variables: z[i,j,k] = 1 if C[i,j] == allowed_values[k]\n",
    "    z = cp.Variable( array_shape + tuple([len(allowed_values)]), boolean=True, name='z')\n",
    "    constraints = []\n",
    "    for i in range(array_shape[0]):\n",
    "        for j in range(array_shape[1]):\n",
    "            # Only one value can be chosen per C[i,j]\n",
    "            constraints += [cp.sum(z[i, j, :]) == 1]\n",
    "    return z, constraints\n",
    "\n",
    "def guarantee_one_of_each_in_full_matrix(z_array, allowed_values):\n",
    "    constraints = []\n",
    "    # for each column (it is supposed to be switched like that)\n",
    "    for row in range(z_array.shape[0]):\n",
    "        # Each value v must appear at least once in C\n",
    "        for v_idx, _ in enumerate(allowed_values):\n",
    "            constraints += [cp.sum(z_array[row,:, v_idx]) >= 1]  # At least one occurrence of v\n",
    "    \n",
    "    # for each row (it is supposed to be switched like that)\n",
    "    for column in range(z_array.shape[0]):\n",
    "        # Each value v must appear at least once in C\n",
    "        for v_idx, _ in enumerate(allowed_values):\n",
    "            constraints += [cp.sum(z_array[:,column, v_idx]) >= 1]  # At least one occurrence of v\n",
    "    return constraints\n",
    "\n",
    "def get_final_solution_constraints(decision_variables):\n",
    "    final_result = cp.Variable(decision_variables[:,:,0].shape, integer=True, name='final')\n",
    "    final_result_arr = np.zeros(decision_variables[:,:,0].shape)\n",
    "\n",
    "    for idx in range(decision_variables.shape[2]):\n",
    "        final_result_arr = final_result_arr + decision_variables[:,:, idx]*allowed_values[idx]\n",
    "\n",
    "    constraint = [final_result == final_result_arr]\n",
    "    \n",
    "    return final_result, constraint\n",
    "\n",
    "n = 4\n",
    "allowed_values = [1, 2, 3, 4]  # Discrete set\n",
    "decision_variables, constraints = make_discrete_decision_variables((n, n), allowed_values)\n",
    "constraints += guarantee_one_of_each_in_full_matrix(decision_variables, allowed_values)\n",
    "\n",
    "final_solution, final_solution_constraints = get_final_solution_constraints(decision_variables)\n",
    "constraints += final_solution_constraints\n",
    "\n",
    "z = decision_variables\n",
    "\n",
    "# fill some just to test\n",
    "test_contraints = [z[0, 0, 0] == 1, z[1, 0, 2] == 1, z[0, 2, 1] == 1, z[1, 2, 3] == 1,\n",
    "                   z[1, 1, 0] == 1 , z[3, 3, 3] == 1]\n",
    "constraints += test_contraints\n",
    "\n",
    "objective = cp.Maximize(cp.sum(decision_variables))\n",
    "\n",
    "problem = cp.Problem(objective, constraints)\n",
    "problem.solve(solver=cp.SCIP)\n",
    "\n",
    "print(problem.status)\n",
    "print(final_solution.value)\n"
   ]
  },
  {
   "cell_type": "code",
   "execution_count": 115,
   "metadata": {},
   "outputs": [
    {
     "name": "stdout",
     "output_type": "stream",
     "text": [
      "[[[3. 1.]\n",
      "  [3. 1.]]\n",
      "\n",
      " [[1. 1.]\n",
      "  [1. 1.]]\n",
      "\n",
      " [[1. 1.]\n",
      "  [1. 1.]]\n",
      "\n",
      " [[1. 4.]\n",
      "  [1. 2.]]]\n",
      "['final[0, 0:4][0] + 1e-05 + -100000.0 @ (1.0 + -var172517[1]) <= final[0, 0:4][0:2][1]', 'final[0, 0:4][0] + 1e-05 + -100000.0 @ (1.0 + -var172517[2]) <= final[0, 0:4][0:3][2]', 'final[0, 0:4][0:2] + Promote(1e-05, (2,)) + Promote(-100000.0 @ (1.0 + -var172517[2]), (2,)) <= final[0, 0:4][0:3][2]', 'final[0, 0:4][0] + 1e-05 + -100000.0 @ (1.0 + -var172517[3]) <= final[0, 0:4][0:4][3]', 'final[0, 0:4][0:2] + Promote(1e-05, (2,)) + Promote(-100000.0 @ (1.0 + -var172517[3]), (2,)) <= final[0, 0:4][0:4][3]', 'final[0, 0:4][0:3] + Promote(1e-05, (3,)) + Promote(-100000.0 @ (1.0 + -var172517[3]), (3,)) <= final[0, 0:4][0:4][3]', 'Sum(var172517, None, False) <= 3.0', 'final[0, 3][0] + 1e-05 + -100000.0 @ (1.0 + -var172609[1]) <= final[0, 3][0:2][1]', 'final[0, 3][0] + 1e-05 + -100000.0 @ (1.0 + -var172609[2]) <= final[0, 3][0:3][2]', 'final[0, 3][0:2] + Promote(1e-05, (2,)) + Promote(-100000.0 @ (1.0 + -var172609[2]), (2,)) <= final[0, 3][0:3][2]', 'final[0, 3][0] + 1e-05 + -100000.0 @ (1.0 + -var172609[3]) <= final[0, 3][0:4][3]', 'final[0, 3][0:2] + Promote(1e-05, (2,)) + Promote(-100000.0 @ (1.0 + -var172609[3]), (2,)) <= final[0, 3][0:4][3]', 'final[0, 3][0:3] + Promote(1e-05, (3,)) + Promote(-100000.0 @ (1.0 + -var172609[3]), (3,)) <= final[0, 3][0:4][3]', 'Sum(var172609, None, False) <= 1.0', 'final[0:4, 0][0] + 1e-05 + -100000.0 @ (1.0 + -var172701[1]) <= final[0:4, 0][0:2][1]', 'final[0:4, 0][0] + 1e-05 + -100000.0 @ (1.0 + -var172701[2]) <= final[0:4, 0][0:3][2]', 'final[0:4, 0][0:2] + Promote(1e-05, (2,)) + Promote(-100000.0 @ (1.0 + -var172701[2]), (2,)) <= final[0:4, 0][0:3][2]', 'final[0:4, 0][0] + 1e-05 + -100000.0 @ (1.0 + -var172701[3]) <= final[0:4, 0][0:4][3]', 'final[0:4, 0][0:2] + Promote(1e-05, (2,)) + Promote(-100000.0 @ (1.0 + -var172701[3]), (2,)) <= final[0:4, 0][0:4][3]', 'final[0:4, 0][0:3] + Promote(1e-05, (3,)) + Promote(-100000.0 @ (1.0 + -var172701[3]), (3,)) <= final[0:4, 0][0:4][3]', 'Sum(var172701, None, False) <= 3.0', 'final[3, 0][0] + 1e-05 + -100000.0 @ (1.0 + -var172793[1]) <= final[3, 0][0:2][1]', 'final[3, 0][0] + 1e-05 + -100000.0 @ (1.0 + -var172793[2]) <= final[3, 0][0:3][2]', 'final[3, 0][0:2] + Promote(1e-05, (2,)) + Promote(-100000.0 @ (1.0 + -var172793[2]), (2,)) <= final[3, 0][0:3][2]', 'final[3, 0][0] + 1e-05 + -100000.0 @ (1.0 + -var172793[3]) <= final[3, 0][0:4][3]', 'final[3, 0][0:2] + Promote(1e-05, (2,)) + Promote(-100000.0 @ (1.0 + -var172793[3]), (2,)) <= final[3, 0][0:4][3]', 'final[3, 0][0:3] + Promote(1e-05, (3,)) + Promote(-100000.0 @ (1.0 + -var172793[3]), (3,)) <= final[3, 0][0:4][3]', 'Sum(var172793, None, False) <= 1.0', 'final[1, 0:4][0] + 1e-05 + -100000.0 @ (1.0 + -var172885[1]) <= final[1, 0:4][0:2][1]', 'final[1, 0:4][0] + 1e-05 + -100000.0 @ (1.0 + -var172885[2]) <= final[1, 0:4][0:3][2]', 'final[1, 0:4][0:2] + Promote(1e-05, (2,)) + Promote(-100000.0 @ (1.0 + -var172885[2]), (2,)) <= final[1, 0:4][0:3][2]', 'final[1, 0:4][0] + 1e-05 + -100000.0 @ (1.0 + -var172885[3]) <= final[1, 0:4][0:4][3]', 'final[1, 0:4][0:2] + Promote(1e-05, (2,)) + Promote(-100000.0 @ (1.0 + -var172885[3]), (2,)) <= final[1, 0:4][0:4][3]', 'final[1, 0:4][0:3] + Promote(1e-05, (3,)) + Promote(-100000.0 @ (1.0 + -var172885[3]), (3,)) <= final[1, 0:4][0:4][3]', 'Sum(var172885, None, False) <= 1.0', 'final[1, 3][0] + 1e-05 + -100000.0 @ (1.0 + -var172977[1]) <= final[1, 3][0:2][1]', 'final[1, 3][0] + 1e-05 + -100000.0 @ (1.0 + -var172977[2]) <= final[1, 3][0:3][2]', 'final[1, 3][0:2] + Promote(1e-05, (2,)) + Promote(-100000.0 @ (1.0 + -var172977[2]), (2,)) <= final[1, 3][0:3][2]', 'final[1, 3][0] + 1e-05 + -100000.0 @ (1.0 + -var172977[3]) <= final[1, 3][0:4][3]', 'final[1, 3][0:2] + Promote(1e-05, (2,)) + Promote(-100000.0 @ (1.0 + -var172977[3]), (2,)) <= final[1, 3][0:4][3]', 'final[1, 3][0:3] + Promote(1e-05, (3,)) + Promote(-100000.0 @ (1.0 + -var172977[3]), (3,)) <= final[1, 3][0:4][3]', 'Sum(var172977, None, False) <= 1.0', 'final[0:4, 1][0] + 1e-05 + -100000.0 @ (1.0 + -var173069[1]) <= final[0:4, 1][0:2][1]', 'final[0:4, 1][0] + 1e-05 + -100000.0 @ (1.0 + -var173069[2]) <= final[0:4, 1][0:3][2]', 'final[0:4, 1][0:2] + Promote(1e-05, (2,)) + Promote(-100000.0 @ (1.0 + -var173069[2]), (2,)) <= final[0:4, 1][0:3][2]', 'final[0:4, 1][0] + 1e-05 + -100000.0 @ (1.0 + -var173069[3]) <= final[0:4, 1][0:4][3]', 'final[0:4, 1][0:2] + Promote(1e-05, (2,)) + Promote(-100000.0 @ (1.0 + -var173069[3]), (2,)) <= final[0:4, 1][0:4][3]', 'final[0:4, 1][0:3] + Promote(1e-05, (3,)) + Promote(-100000.0 @ (1.0 + -var173069[3]), (3,)) <= final[0:4, 1][0:4][3]', 'Sum(var173069, None, False) <= 1.0', 'final[3, 1][0] + 1e-05 + -100000.0 @ (1.0 + -var173161[1]) <= final[3, 1][0:2][1]', 'final[3, 1][0] + 1e-05 + -100000.0 @ (1.0 + -var173161[2]) <= final[3, 1][0:3][2]', 'final[3, 1][0:2] + Promote(1e-05, (2,)) + Promote(-100000.0 @ (1.0 + -var173161[2]), (2,)) <= final[3, 1][0:3][2]', 'final[3, 1][0] + 1e-05 + -100000.0 @ (1.0 + -var173161[3]) <= final[3, 1][0:4][3]', 'final[3, 1][0:2] + Promote(1e-05, (2,)) + Promote(-100000.0 @ (1.0 + -var173161[3]), (2,)) <= final[3, 1][0:4][3]', 'final[3, 1][0:3] + Promote(1e-05, (3,)) + Promote(-100000.0 @ (1.0 + -var173161[3]), (3,)) <= final[3, 1][0:4][3]', 'Sum(var173161, None, False) <= 1.0', 'final[2, 0:4][0] + 1e-05 + -100000.0 @ (1.0 + -var173253[1]) <= final[2, 0:4][0:2][1]', 'final[2, 0:4][0] + 1e-05 + -100000.0 @ (1.0 + -var173253[2]) <= final[2, 0:4][0:3][2]', 'final[2, 0:4][0:2] + Promote(1e-05, (2,)) + Promote(-100000.0 @ (1.0 + -var173253[2]), (2,)) <= final[2, 0:4][0:3][2]', 'final[2, 0:4][0] + 1e-05 + -100000.0 @ (1.0 + -var173253[3]) <= final[2, 0:4][0:4][3]', 'final[2, 0:4][0:2] + Promote(1e-05, (2,)) + Promote(-100000.0 @ (1.0 + -var173253[3]), (2,)) <= final[2, 0:4][0:4][3]', 'final[2, 0:4][0:3] + Promote(1e-05, (3,)) + Promote(-100000.0 @ (1.0 + -var173253[3]), (3,)) <= final[2, 0:4][0:4][3]', 'Sum(var173253, None, False) <= 1.0', 'final[2, 3][0] + 1e-05 + -100000.0 @ (1.0 + -var173345[1]) <= final[2, 3][0:2][1]', 'final[2, 3][0] + 1e-05 + -100000.0 @ (1.0 + -var173345[2]) <= final[2, 3][0:3][2]', 'final[2, 3][0:2] + Promote(1e-05, (2,)) + Promote(-100000.0 @ (1.0 + -var173345[2]), (2,)) <= final[2, 3][0:3][2]', 'final[2, 3][0] + 1e-05 + -100000.0 @ (1.0 + -var173345[3]) <= final[2, 3][0:4][3]', 'final[2, 3][0:2] + Promote(1e-05, (2,)) + Promote(-100000.0 @ (1.0 + -var173345[3]), (2,)) <= final[2, 3][0:4][3]', 'final[2, 3][0:3] + Promote(1e-05, (3,)) + Promote(-100000.0 @ (1.0 + -var173345[3]), (3,)) <= final[2, 3][0:4][3]', 'Sum(var173345, None, False) <= 1.0', 'final[0:4, 2][0] + 1e-05 + -100000.0 @ (1.0 + -var173437[1]) <= final[0:4, 2][0:2][1]', 'final[0:4, 2][0] + 1e-05 + -100000.0 @ (1.0 + -var173437[2]) <= final[0:4, 2][0:3][2]', 'final[0:4, 2][0:2] + Promote(1e-05, (2,)) + Promote(-100000.0 @ (1.0 + -var173437[2]), (2,)) <= final[0:4, 2][0:3][2]', 'final[0:4, 2][0] + 1e-05 + -100000.0 @ (1.0 + -var173437[3]) <= final[0:4, 2][0:4][3]', 'final[0:4, 2][0:2] + Promote(1e-05, (2,)) + Promote(-100000.0 @ (1.0 + -var173437[3]), (2,)) <= final[0:4, 2][0:4][3]', 'final[0:4, 2][0:3] + Promote(1e-05, (3,)) + Promote(-100000.0 @ (1.0 + -var173437[3]), (3,)) <= final[0:4, 2][0:4][3]', 'Sum(var173437, None, False) <= 1.0', 'final[3, 2][0] + 1e-05 + -100000.0 @ (1.0 + -var173529[1]) <= final[3, 2][0:2][1]', 'final[3, 2][0] + 1e-05 + -100000.0 @ (1.0 + -var173529[2]) <= final[3, 2][0:3][2]', 'final[3, 2][0:2] + Promote(1e-05, (2,)) + Promote(-100000.0 @ (1.0 + -var173529[2]), (2,)) <= final[3, 2][0:3][2]', 'final[3, 2][0] + 1e-05 + -100000.0 @ (1.0 + -var173529[3]) <= final[3, 2][0:4][3]', 'final[3, 2][0:2] + Promote(1e-05, (2,)) + Promote(-100000.0 @ (1.0 + -var173529[3]), (2,)) <= final[3, 2][0:4][3]', 'final[3, 2][0:3] + Promote(1e-05, (3,)) + Promote(-100000.0 @ (1.0 + -var173529[3]), (3,)) <= final[3, 2][0:4][3]', 'Sum(var173529, None, False) <= 1.0', 'final[3, 0:4][0] + 1e-05 + -100000.0 @ (1.0 + -var173621[1]) <= final[3, 0:4][0:2][1]', 'final[3, 0:4][0] + 1e-05 + -100000.0 @ (1.0 + -var173621[2]) <= final[3, 0:4][0:3][2]', 'final[3, 0:4][0:2] + Promote(1e-05, (2,)) + Promote(-100000.0 @ (1.0 + -var173621[2]), (2,)) <= final[3, 0:4][0:3][2]', 'final[3, 0:4][0] + 1e-05 + -100000.0 @ (1.0 + -var173621[3]) <= final[3, 0:4][0:4][3]', 'final[3, 0:4][0:2] + Promote(1e-05, (2,)) + Promote(-100000.0 @ (1.0 + -var173621[3]), (2,)) <= final[3, 0:4][0:4][3]', 'final[3, 0:4][0:3] + Promote(1e-05, (3,)) + Promote(-100000.0 @ (1.0 + -var173621[3]), (3,)) <= final[3, 0:4][0:4][3]', 'Sum(var173621, None, False) <= 1.0', 'final[3, 3][0] + 1e-05 + -100000.0 @ (1.0 + -var173713[1]) <= final[3, 3][0:2][1]', 'final[3, 3][0] + 1e-05 + -100000.0 @ (1.0 + -var173713[2]) <= final[3, 3][0:3][2]', 'final[3, 3][0:2] + Promote(1e-05, (2,)) + Promote(-100000.0 @ (1.0 + -var173713[2]), (2,)) <= final[3, 3][0:3][2]', 'final[3, 3][0] + 1e-05 + -100000.0 @ (1.0 + -var173713[3]) <= final[3, 3][0:4][3]', 'final[3, 3][0:2] + Promote(1e-05, (2,)) + Promote(-100000.0 @ (1.0 + -var173713[3]), (2,)) <= final[3, 3][0:4][3]', 'final[3, 3][0:3] + Promote(1e-05, (3,)) + Promote(-100000.0 @ (1.0 + -var173713[3]), (3,)) <= final[3, 3][0:4][3]', 'Sum(var173713, None, False) <= 4.0', 'final[0:4, 3][0] + 1e-05 + -100000.0 @ (1.0 + -var173805[1]) <= final[0:4, 3][0:2][1]', 'final[0:4, 3][0] + 1e-05 + -100000.0 @ (1.0 + -var173805[2]) <= final[0:4, 3][0:3][2]', 'final[0:4, 3][0:2] + Promote(1e-05, (2,)) + Promote(-100000.0 @ (1.0 + -var173805[2]), (2,)) <= final[0:4, 3][0:3][2]', 'final[0:4, 3][0] + 1e-05 + -100000.0 @ (1.0 + -var173805[3]) <= final[0:4, 3][0:4][3]', 'final[0:4, 3][0:2] + Promote(1e-05, (2,)) + Promote(-100000.0 @ (1.0 + -var173805[3]), (2,)) <= final[0:4, 3][0:4][3]', 'final[0:4, 3][0:3] + Promote(1e-05, (3,)) + Promote(-100000.0 @ (1.0 + -var173805[3]), (3,)) <= final[0:4, 3][0:4][3]', 'Sum(var173805, None, False) <= 1.0', 'final[3, 3][0] + 1e-05 + -100000.0 @ (1.0 + -var173897[1]) <= final[3, 3][0:2][1]', 'final[3, 3][0] + 1e-05 + -100000.0 @ (1.0 + -var173897[2]) <= final[3, 3][0:3][2]', 'final[3, 3][0:2] + Promote(1e-05, (2,)) + Promote(-100000.0 @ (1.0 + -var173897[2]), (2,)) <= final[3, 3][0:3][2]', 'final[3, 3][0] + 1e-05 + -100000.0 @ (1.0 + -var173897[3]) <= final[3, 3][0:4][3]', 'final[3, 3][0:2] + Promote(1e-05, (2,)) + Promote(-100000.0 @ (1.0 + -var173897[3]), (2,)) <= final[3, 3][0:4][3]', 'final[3, 3][0:3] + Promote(1e-05, (3,)) + Promote(-100000.0 @ (1.0 + -var173897[3]), (3,)) <= final[3, 3][0:4][3]', 'Sum(var173897, None, False) <= 2.0']\n"
     ]
    },
    {
     "name": "stderr",
     "output_type": "stream",
     "text": [
      "/home/pedro.trindade/anaconda3/envs/optmization/lib/python3.13/site-packages/cvxpy/reductions/solvers/solving_chain.py:418: UserWarning: The problem has an expression with dimension greater than 2. Defaulting to the SCIPY backend for canonicalization.\n",
      "  warnings.warn(UserWarning(\n"
     ]
    },
    {
     "name": "stdout",
     "output_type": "stream",
     "text": [
      "optimal\n",
      "[[1. 2. 3. 4.]\n",
      " [2. 1. 4. 3.]\n",
      " [3. 4. 1. 2.]\n",
      " [4. 3. 2. 1.]]\n"
     ]
    }
   ],
   "source": [
    "n = 4\n",
    "constraints = []\n",
    "\n",
    "side_towers = np.ones((n, 2, 2)) #position, row or column, orientation (right or left, down or up)\n",
    "\n",
    "def get_side_towers_constraints(final_result_vars, side_towers):\n",
    "    constraints = []\n",
    "    \n",
    "    for position in range(side_towers.shape[0]):\n",
    "        for pos_type in range(side_towers.shape[1]):\n",
    "            for orientation in range(side_towers.shape[2]):\n",
    "                if pos_type == 0:\n",
    "                    if orientation == 0:\n",
    "                        cis, tower_constraint = get_ordered_comparison_model(final_result_vars[position, :])\n",
    "                    else:\n",
    "                        cis, tower_constraint = get_ordered_comparison_model(final_result_vars[position,::-1])\n",
    "                else:\n",
    "                    if orientation == 0:\n",
    "                        cis, tower_constraint = get_ordered_comparison_model(final_result_vars[:, position])\n",
    "                    else:\n",
    "                        cis, tower_constraint = get_ordered_comparison_model(final_result_vars[::-1, position])\n",
    "                    \n",
    "                constraints += tower_constraint\n",
    "                constraints += [side_towers[position, pos_type, orientation] >= cp.sum(cis)]\n",
    "                \n",
    "    return constraints\n",
    "\n",
    "## Test\n",
    "s = side_towers\n",
    "s[0,0,0] = 3\n",
    "s[0,1,0] = 3\n",
    "s[3,0,1] = 4\n",
    "s[3,1,1] = 2\n",
    "side_towers = s\n",
    "\n",
    "print(side_towers)\n",
    "\n",
    "n = 4\n",
    "allowed_values = [1, 2, 3, 4]  # Discrete set\n",
    "decision_variables, constraints = make_discrete_decision_variables((n, n), allowed_values)\n",
    "constraints += guarantee_one_of_each_in_full_matrix(decision_variables, allowed_values)\n",
    "\n",
    "final_solution, final_solution_constraints = get_final_solution_constraints(decision_variables)\n",
    "constraints += final_solution_constraints\n",
    "\n",
    "tower_constraints = get_side_towers_constraints(final_solution, side_towers)\n",
    "print([str(c) for c in tower_constraints])\n",
    "constraints += tower_constraints\n",
    "\n",
    "objective = cp.Maximize(cp.sum(decision_variables))\n",
    "\n",
    "problem = cp.Problem(objective, constraints)\n",
    "problem.solve(solver=cp.SCIP)\n",
    "\n",
    "print(problem.status)\n",
    "print(final_solution.value)\n"
   ]
  },
  {
   "cell_type": "code",
   "execution_count": null,
   "metadata": {},
   "outputs": [],
   "source": []
  }
 ],
 "metadata": {
  "kernelspec": {
   "display_name": "optmization",
   "language": "python",
   "name": "python3"
  },
  "language_info": {
   "codemirror_mode": {
    "name": "ipython",
    "version": 3
   },
   "file_extension": ".py",
   "mimetype": "text/x-python",
   "name": "python",
   "nbconvert_exporter": "python",
   "pygments_lexer": "ipython3",
   "version": "3.13.2"
  }
 },
 "nbformat": 4,
 "nbformat_minor": 2
}
