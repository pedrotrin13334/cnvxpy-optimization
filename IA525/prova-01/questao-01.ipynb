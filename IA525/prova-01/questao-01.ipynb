{
 "cells": [
  {
   "cell_type": "code",
   "execution_count": 29,
   "metadata": {},
   "outputs": [
    {
     "name": "stdout",
     "output_type": "stream",
     "text": [
      "[array([10]), array([10, 15]), array([10, 15, 12]), array([10, 15, 12, 20]), array([10, 15, 12, 20, 10]), array([10, 15, 12, 20, 10, 40]), array([10, 15, 12, 20, 10, 40, 41]), array([10, 15, 12, 20, 10, 40, 41, 52]), array([10, 15, 12, 20, 10, 40, 41, 52, 53]), array([10, 15, 12, 20, 10, 40, 41, 52, 53, 23]), array([10, 15, 12, 20, 10, 40, 41, 52, 53, 23, 22]), array([10, 15, 12, 20, 10, 40, 41, 52, 53, 23, 22, 22])]\n",
      "optimal\n",
      "Number of towers to see: 7.0\n"
     ]
    }
   ],
   "source": [
    "import cvxpy as cp\n",
    "import numpy as np\n",
    "from numpy.typing import NDArray\n",
    "\n",
    "def get_ordered_comparison_model(line_array : NDArray, epsilon=1e-5, M = 1e5):\n",
    "    ordered_list = get_list_of_arrays_less_than_k(line_array)\n",
    "    Cis = cp.Variable(len(line_array), boolean=True)\n",
    "    constraints_hi = []\n",
    "    for idx in range(len(ordered_list)):\n",
    "        constraints_hi += [ordered_list[idx][idx] >= ordered_list[k] + epsilon - M*(1-Cis[idx])\n",
    "                          for k in range(len(ordered_list[idx])-1)]\n",
    "    return Cis, constraints_hi\n",
    "\n",
    "def get_list_of_arrays_less_than_k(line_array : NDArray):\n",
    "    return [line_array[:k+1] for k in range(len(line_array))]\n",
    "\n",
    "# Example data\n",
    "A = np.array([10, 15, 12, 20,10, 40,41, 52, 53, 23, 22, 22]) \n",
    "print(get_list_of_arrays_less_than_k(A))\n",
    "epsilon = 1e-5  # Tolerance for strict inequality\n",
    "M = 1e5  # Big-M value\n",
    "\n",
    "Cis, constraints = get_ordered_comparison_model(A, epsilon, M)\n",
    "objective = cp.Maximize(cp.sum(Cis))\n",
    "problem = cp.Problem(objective, constraints)\n",
    "problem.solve(solver=cp.SCIP)\n",
    "\n",
    "print(problem.status)\n",
    "\n",
    "# Results\n",
    "print(f\"Number of towers to see: {problem.value}\")"
   ]
  },
  {
   "cell_type": "code",
   "execution_count": 39,
   "metadata": {},
   "outputs": [
    {
     "name": "stdout",
     "output_type": "stream",
     "text": [
      "optimal\n",
      "[[1. 4. 2. 3.]\n",
      " [3. 1. 4. 2.]\n",
      " [4. 2. 3. 1.]\n",
      " [2. 3. 1. 4.]]\n"
     ]
    },
    {
     "name": "stderr",
     "output_type": "stream",
     "text": [
      "/home/pedro.trindade/anaconda3/envs/optmization/lib/python3.13/site-packages/cvxpy/reductions/solvers/solving_chain.py:418: UserWarning: The problem has an expression with dimension greater than 2. Defaulting to the SCIPY backend for canonicalization.\n",
      "  warnings.warn(UserWarning(\n"
     ]
    }
   ],
   "source": [
    "import cvxpy as cp\n",
    "\n",
    "def make_discrete_decision_variables(array_shape, allowed_values):\n",
    "    # Binary variables: z[i,j,k] = 1 if C[i,j] == allowed_values[k]\n",
    "    z = cp.Variable( array_shape + tuple([len(allowed_values)]), boolean=True)\n",
    "    constraints = []\n",
    "    for i in range(array_shape[0]):\n",
    "        for j in range(array_shape[1]):\n",
    "            # Only one value can be chosen per C[i,j]\n",
    "            constraints += [cp.sum(z[i, j, :]) == 1]\n",
    "    return z, constraints\n",
    "\n",
    "def guarantee_one_of_each_in_full_matrix(z_array, allowed_values):\n",
    "    constraints = []\n",
    "    # for each column (it is supposed to be switched like that)\n",
    "    for row in range(z_array.shape[0]):\n",
    "        # Each value v must appear at least once in C\n",
    "        for v_idx, _ in enumerate(allowed_values):\n",
    "            constraints += [cp.sum(z_array[row,:, v_idx]) >= 1]  # At least one occurrence of v\n",
    "    \n",
    "    # for each row (it is supposed to be switched like that)\n",
    "    for column in range(z_array.shape[0]):\n",
    "        # Each value v must appear at least once in C\n",
    "        for v_idx, _ in enumerate(allowed_values):\n",
    "            constraints += [cp.sum(z_array[:,column, v_idx]) >= 1]  # At least one occurrence of v\n",
    "    return constraints\n",
    "\n",
    "n = 4\n",
    "allowed_values = [1, 2, 3, 4]  # Discrete set\n",
    "decision_variables, constraints = make_discrete_decision_variables((n, n), allowed_values)\n",
    "constraints += guarantee_one_of_each_in_full_matrix(decision_variables, allowed_values)\n",
    "\n",
    "z = decision_variables\n",
    "\n",
    "# fill some just to test\n",
    "test_contraints = [z[0, 0, 0] == 1, z[1, 0, 2] == 1, z[0, 2, 1] == 1, z[1, 2, 3] == 1,\n",
    "                   z[1, 1, 0] == 1 , z[3, 3, 3] == 1]\n",
    "constraints += test_contraints\n",
    "\n",
    "objective = cp.Maximize(cp.sum(decision_variables))\n",
    "\n",
    "problem = cp.Problem(objective, constraints)\n",
    "problem.solve(solver=cp.SCIP)\n",
    "\n",
    "print(problem.status)\n",
    "#print(decision_variables.value)\n",
    "decisions = np.array(decision_variables.value)\n",
    "final_result = np.zeros(decisions[:,:,0].shape)\n",
    "\n",
    "for idx in range(decisions.shape[2]):\n",
    "    final_result += decisions[:,:, idx]*allowed_values[idx]\n",
    "\n",
    "print(final_result)\n"
   ]
  },
  {
   "cell_type": "code",
   "execution_count": null,
   "metadata": {},
   "outputs": [],
   "source": []
  }
 ],
 "metadata": {
  "kernelspec": {
   "display_name": "optmization",
   "language": "python",
   "name": "python3"
  },
  "language_info": {
   "codemirror_mode": {
    "name": "ipython",
    "version": 3
   },
   "file_extension": ".py",
   "mimetype": "text/x-python",
   "name": "python",
   "nbconvert_exporter": "python",
   "pygments_lexer": "ipython3",
   "version": "3.13.2"
  }
 },
 "nbformat": 4,
 "nbformat_minor": 2
}
