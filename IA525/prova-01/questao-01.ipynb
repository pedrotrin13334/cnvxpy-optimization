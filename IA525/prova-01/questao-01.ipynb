{
 "cells": [
  {
   "cell_type": "code",
   "execution_count": 29,
   "metadata": {},
   "outputs": [
    {
     "name": "stdout",
     "output_type": "stream",
     "text": [
      "[array([10]), array([10, 15]), array([10, 15, 12]), array([10, 15, 12, 20]), array([10, 15, 12, 20, 10]), array([10, 15, 12, 20, 10, 40]), array([10, 15, 12, 20, 10, 40, 41]), array([10, 15, 12, 20, 10, 40, 41, 52]), array([10, 15, 12, 20, 10, 40, 41, 52, 53]), array([10, 15, 12, 20, 10, 40, 41, 52, 53, 23]), array([10, 15, 12, 20, 10, 40, 41, 52, 53, 23, 22]), array([10, 15, 12, 20, 10, 40, 41, 52, 53, 23, 22, 22])]\n",
      "optimal\n",
      "Number of towers to see: 7.0\n"
     ]
    }
   ],
   "source": [
    "import cvxpy as cp\n",
    "import numpy as np\n",
    "from numpy.typing import NDArray\n",
    "\n",
    "def get_ordered_comparison_model(line_array : NDArray, epsilon=1e-5, M = 1e5):\n",
    "    ordered_list = get_list_of_arrays_less_than_k(line_array)\n",
    "    Cis = cp.Variable(len(line_array), boolean=True)\n",
    "    constraints_hi = []\n",
    "    for idx in range(len(ordered_list)):\n",
    "        constraints_hi += [ordered_list[idx][idx] >= ordered_list[k] + epsilon - M*(1-Cis[idx])\n",
    "                          for k in range(len(ordered_list[idx])-1)]\n",
    "    return Cis, constraints_hi\n",
    "\n",
    "def get_list_of_arrays_less_than_k(line_array : NDArray):\n",
    "    return [line_array[:k+1] for k in range(len(line_array))]\n",
    "\n",
    "# Example data\n",
    "A = np.array([10, 15, 12, 20,10, 40,41, 52, 53, 23, 22, 22]) \n",
    "print(get_list_of_arrays_less_than_k(A))\n",
    "epsilon = 1e-5  # Tolerance for strict inequality\n",
    "M = 1e5  # Big-M value\n",
    "\n",
    "Cis, constraints = get_ordered_comparison_model(A, epsilon, M)\n",
    "objective = cp.Maximize(cp.sum(Cis))\n",
    "problem = cp.Problem(objective, constraints)\n",
    "problem.solve(solver=cp.SCIP)\n",
    "\n",
    "print(problem.status)\n",
    "\n",
    "# Results\n",
    "print(f\"Number of towers to see: {problem.value}\")"
   ]
  },
  {
   "cell_type": "code",
   "execution_count": null,
   "metadata": {},
   "outputs": [],
   "source": []
  }
 ],
 "metadata": {
  "kernelspec": {
   "display_name": "optmization",
   "language": "python",
   "name": "python3"
  },
  "language_info": {
   "codemirror_mode": {
    "name": "ipython",
    "version": 3
   },
   "file_extension": ".py",
   "mimetype": "text/x-python",
   "name": "python",
   "nbconvert_exporter": "python",
   "pygments_lexer": "ipython3",
   "version": "3.13.2"
  }
 },
 "nbformat": 4,
 "nbformat_minor": 2
}
