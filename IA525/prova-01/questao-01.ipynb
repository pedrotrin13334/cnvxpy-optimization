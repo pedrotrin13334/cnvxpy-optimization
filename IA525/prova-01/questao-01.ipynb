{
 "cells": [
  {
   "cell_type": "code",
   "execution_count": 16,
   "metadata": {},
   "outputs": [
    {
     "name": "stdout",
     "output_type": "stream",
     "text": [
      "[array([10]), array([10, 15]), array([10, 15, 12]), array([10, 15, 12, 20])]\n"
     ]
    },
    {
     "ename": "AttributeError",
     "evalue": "'Problem' object has no attribute 'show'",
     "output_type": "error",
     "traceback": [
      "\u001b[31m---------------------------------------------------------------------------\u001b[39m",
      "\u001b[31mAttributeError\u001b[39m                            Traceback (most recent call last)",
      "\u001b[36mCell\u001b[39m\u001b[36m \u001b[39m\u001b[32mIn[16]\u001b[39m\u001b[32m, line 28\u001b[39m\n\u001b[32m     25\u001b[39m problem = cp.Problem(objective, constraints)\n\u001b[32m     26\u001b[39m problem.solve(solver=cp.SCIP)\n\u001b[32m---> \u001b[39m\u001b[32m28\u001b[39m \u001b[43mproblem\u001b[49m\u001b[43m.\u001b[49m\u001b[43mshow\u001b[49m()\n\u001b[32m     30\u001b[39m \u001b[38;5;66;03m# Results\u001b[39;00m\n\u001b[32m     31\u001b[39m \u001b[38;5;28mprint\u001b[39m(\u001b[33mf\u001b[39m\u001b[33m\"\u001b[39m\u001b[33mNumber of towers to see: \u001b[39m\u001b[38;5;132;01m{\u001b[39;00mproblem.value\u001b[38;5;132;01m}\u001b[39;00m\u001b[33m\"\u001b[39m)\n",
      "\u001b[31mAttributeError\u001b[39m: 'Problem' object has no attribute 'show'"
     ]
    }
   ],
   "source": [
    "import cvxpy as cp\n",
    "import numpy as np\n",
    "from numpy.typing import NDArray\n",
    "\n",
    "def get_ordered_comparison_model(line_array : NDArray, epsilon=1e-5, M = 1e5):\n",
    "    ordered_list = get_list_of_arrays_less_than_k(line_array)\n",
    "    Cis = cp.Variable(len(line_array))\n",
    "    constraints_hi = []\n",
    "    for idx in range(len(ordered_list)):\n",
    "        constraints_hi += [ordered_list[idx][idx] >= ordered_list[k] + epsilon - M*(1-Cis[idx])\n",
    "                          for k in range(len(ordered_list[idx]))]\n",
    "    return Cis, constraints_hi\n",
    "\n",
    "def get_list_of_arrays_less_than_k(line_array : NDArray):\n",
    "    return [line_array[:k+1] for k in range(len(line_array))]\n",
    "\n",
    "# Example data\n",
    "A = np.array([10, 15, 12, 20]) \n",
    "print(get_list_of_arrays_less_than_k(A))\n",
    "epsilon = 1e-5  # Tolerance for strict inequality\n",
    "M = 1e5  # Big-M value\n",
    "\n",
    "Cis, constraints = get_ordered_comparison_model(A, epsilon, M)\n",
    "objective = cp.Maximize(cp.sum(Cis))\n",
    "problem = cp.Problem(objective, constraints)\n",
    "problem.solve(solver=cp.SCIP)\n",
    "problem.show()\n",
    "\n",
    "# Results\n",
    "print(f\"Number of towers to see: {problem.value}\")"
   ]
  },
  {
   "cell_type": "code",
   "execution_count": null,
   "metadata": {},
   "outputs": [],
   "source": []
  }
 ],
 "metadata": {
  "kernelspec": {
   "display_name": "optmization",
   "language": "python",
   "name": "python3"
  },
  "language_info": {
   "codemirror_mode": {
    "name": "ipython",
    "version": 3
   },
   "file_extension": ".py",
   "mimetype": "text/x-python",
   "name": "python",
   "nbconvert_exporter": "python",
   "pygments_lexer": "ipython3",
   "version": "3.13.2"
  }
 },
 "nbformat": 4,
 "nbformat_minor": 2
}
