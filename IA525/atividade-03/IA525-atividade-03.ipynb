{
 "cells": [
  {
   "cell_type": "markdown",
   "metadata": {},
   "source": [
    "### Atividade 03: Filtragem de Sinais\n",
    "\n",
    "### Questão 1: \n",
    "Mostre que o problema de ﬁltragem com regularização de Tikhonov pode ser formulado como um problema de quadrados mínimos. Mostre que o problema de ﬁltragem com regularização do tipo LASSO pode ser formulado como um problema de otimização quadrática. Conclua que os dois problemas de otimização propostos são convexos.\n",
    "\n",
    "#### **Resposta:**\n",
    "O segrego para transformar o problema de regularização de Tikhonov como um problema de quadrados mínimos é interpretar os dois termos que se somam como um operador conjunto, isto é, tome \n",
    "\n",
    "$$ \\tilde{A} =\\begin{bmatrix}\n",
    "A \\\\ \\sqrt{\\delta} D\n",
    "\\end{bmatrix}, \\quad \\tilde{b} = \\begin{bmatrix} b \\\\ 0\\end{bmatrix}$$\n",
    "\n",
    "Assim temos\n",
    "$$\n",
    "\\begin{align*}\n",
    "& \\max_{u \\in \\mathbb{R}^n} & &  \\left\\| \\tilde{A}u - \\tilde{b} \\right\\|_{2}^{2}  \\nonumber \\\\\n",
    "\\end{align*} $$"
   ]
  },
  {
   "cell_type": "code",
   "execution_count": null,
   "metadata": {},
   "outputs": [],
   "source": []
  }
 ],
 "metadata": {
  "language_info": {
   "name": "python"
  }
 },
 "nbformat": 4,
 "nbformat_minor": 2
}
